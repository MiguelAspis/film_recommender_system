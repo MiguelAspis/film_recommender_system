{
 "cells": [
  {
   "cell_type": "code",
   "execution_count": null,
   "metadata": {},
   "outputs": [],
   "source": []
  },
  {
   "cell_type": "markdown",
   "metadata": {},
   "source": [
    "#  2 recommender systems in python"
   ]
  },
  {
   "cell_type": "markdown",
   "metadata": {},
   "source": [
    "## Correlation based system"
   ]
  },
  {
   "cell_type": "markdown",
   "metadata": {},
   "source": [
    "### imports"
   ]
  },
  {
   "cell_type": "code",
   "execution_count": 135,
   "metadata": {},
   "outputs": [],
   "source": [
    "import pandas as pd\n",
    "import numpy as np\n",
    "from scipy.sparse import csr_matrix\n",
    "import warnings\n",
    "import matplotlib.pyplot as plt\n",
    "from collections import defaultdict\n",
    "from sklearn.neighbors import NearestNeighbors\n",
    "warnings.filterwarnings('ignore')"
   ]
  },
  {
   "cell_type": "markdown",
   "metadata": {},
   "source": [
    "### Loading data"
   ]
  },
  {
   "cell_type": "code",
   "execution_count": 3,
   "metadata": {},
   "outputs": [],
   "source": [
    "ratings = pd.read_csv('ratings.csv')\n",
    "movies = pd.read_csv('movies.csv')"
   ]
  },
  {
   "cell_type": "code",
   "execution_count": 4,
   "metadata": {},
   "outputs": [
    {
     "data": {
      "text/html": [
       "<div>\n",
       "<style scoped>\n",
       "    .dataframe tbody tr th:only-of-type {\n",
       "        vertical-align: middle;\n",
       "    }\n",
       "\n",
       "    .dataframe tbody tr th {\n",
       "        vertical-align: top;\n",
       "    }\n",
       "\n",
       "    .dataframe thead th {\n",
       "        text-align: right;\n",
       "    }\n",
       "</style>\n",
       "<table border=\"1\" class=\"dataframe\">\n",
       "  <thead>\n",
       "    <tr style=\"text-align: right;\">\n",
       "      <th></th>\n",
       "      <th>userId</th>\n",
       "      <th>movieId</th>\n",
       "      <th>rating</th>\n",
       "      <th>timestamp</th>\n",
       "    </tr>\n",
       "  </thead>\n",
       "  <tbody>\n",
       "    <tr>\n",
       "      <th>0</th>\n",
       "      <td>1</td>\n",
       "      <td>16</td>\n",
       "      <td>4.0</td>\n",
       "      <td>1217897793</td>\n",
       "    </tr>\n",
       "    <tr>\n",
       "      <th>1</th>\n",
       "      <td>1</td>\n",
       "      <td>24</td>\n",
       "      <td>1.5</td>\n",
       "      <td>1217895807</td>\n",
       "    </tr>\n",
       "    <tr>\n",
       "      <th>2</th>\n",
       "      <td>1</td>\n",
       "      <td>32</td>\n",
       "      <td>4.0</td>\n",
       "      <td>1217896246</td>\n",
       "    </tr>\n",
       "    <tr>\n",
       "      <th>3</th>\n",
       "      <td>1</td>\n",
       "      <td>47</td>\n",
       "      <td>4.0</td>\n",
       "      <td>1217896556</td>\n",
       "    </tr>\n",
       "    <tr>\n",
       "      <th>4</th>\n",
       "      <td>1</td>\n",
       "      <td>50</td>\n",
       "      <td>4.0</td>\n",
       "      <td>1217896523</td>\n",
       "    </tr>\n",
       "  </tbody>\n",
       "</table>\n",
       "</div>"
      ],
      "text/plain": [
       "   userId  movieId  rating   timestamp\n",
       "0       1       16     4.0  1217897793\n",
       "1       1       24     1.5  1217895807\n",
       "2       1       32     4.0  1217896246\n",
       "3       1       47     4.0  1217896556\n",
       "4       1       50     4.0  1217896523"
      ]
     },
     "execution_count": 4,
     "metadata": {},
     "output_type": "execute_result"
    }
   ],
   "source": [
    "ratings.head()"
   ]
  },
  {
   "cell_type": "code",
   "execution_count": 5,
   "metadata": {},
   "outputs": [
    {
     "data": {
      "text/html": [
       "<div>\n",
       "<style scoped>\n",
       "    .dataframe tbody tr th:only-of-type {\n",
       "        vertical-align: middle;\n",
       "    }\n",
       "\n",
       "    .dataframe tbody tr th {\n",
       "        vertical-align: top;\n",
       "    }\n",
       "\n",
       "    .dataframe thead th {\n",
       "        text-align: right;\n",
       "    }\n",
       "</style>\n",
       "<table border=\"1\" class=\"dataframe\">\n",
       "  <thead>\n",
       "    <tr style=\"text-align: right;\">\n",
       "      <th></th>\n",
       "      <th>movieId</th>\n",
       "      <th>title</th>\n",
       "      <th>genres</th>\n",
       "    </tr>\n",
       "  </thead>\n",
       "  <tbody>\n",
       "    <tr>\n",
       "      <th>0</th>\n",
       "      <td>1</td>\n",
       "      <td>Toy Story (1995)</td>\n",
       "      <td>Adventure|Animation|Children|Comedy|Fantasy</td>\n",
       "    </tr>\n",
       "    <tr>\n",
       "      <th>1</th>\n",
       "      <td>2</td>\n",
       "      <td>Jumanji (1995)</td>\n",
       "      <td>Adventure|Children|Fantasy</td>\n",
       "    </tr>\n",
       "    <tr>\n",
       "      <th>2</th>\n",
       "      <td>3</td>\n",
       "      <td>Grumpier Old Men (1995)</td>\n",
       "      <td>Comedy|Romance</td>\n",
       "    </tr>\n",
       "    <tr>\n",
       "      <th>3</th>\n",
       "      <td>4</td>\n",
       "      <td>Waiting to Exhale (1995)</td>\n",
       "      <td>Comedy|Drama|Romance</td>\n",
       "    </tr>\n",
       "    <tr>\n",
       "      <th>4</th>\n",
       "      <td>5</td>\n",
       "      <td>Father of the Bride Part II (1995)</td>\n",
       "      <td>Comedy</td>\n",
       "    </tr>\n",
       "  </tbody>\n",
       "</table>\n",
       "</div>"
      ],
      "text/plain": [
       "   movieId                               title  \\\n",
       "0        1                    Toy Story (1995)   \n",
       "1        2                      Jumanji (1995)   \n",
       "2        3             Grumpier Old Men (1995)   \n",
       "3        4            Waiting to Exhale (1995)   \n",
       "4        5  Father of the Bride Part II (1995)   \n",
       "\n",
       "                                        genres  \n",
       "0  Adventure|Animation|Children|Comedy|Fantasy  \n",
       "1                   Adventure|Children|Fantasy  \n",
       "2                               Comedy|Romance  \n",
       "3                         Comedy|Drama|Romance  \n",
       "4                                       Comedy  "
      ]
     },
     "execution_count": 5,
     "metadata": {},
     "output_type": "execute_result"
    }
   ],
   "source": [
    "movies.head()"
   ]
  },
  {
   "cell_type": "markdown",
   "metadata": {},
   "source": [
    "### Merging 2 dataframes into new one"
   ]
  },
  {
   "cell_type": "code",
   "execution_count": 6,
   "metadata": {},
   "outputs": [],
   "source": [
    "df = pd.merge(movies,ratings, on='movieId')"
   ]
  },
  {
   "cell_type": "code",
   "execution_count": 7,
   "metadata": {},
   "outputs": [
    {
     "data": {
      "text/html": [
       "<div>\n",
       "<style scoped>\n",
       "    .dataframe tbody tr th:only-of-type {\n",
       "        vertical-align: middle;\n",
       "    }\n",
       "\n",
       "    .dataframe tbody tr th {\n",
       "        vertical-align: top;\n",
       "    }\n",
       "\n",
       "    .dataframe thead th {\n",
       "        text-align: right;\n",
       "    }\n",
       "</style>\n",
       "<table border=\"1\" class=\"dataframe\">\n",
       "  <thead>\n",
       "    <tr style=\"text-align: right;\">\n",
       "      <th></th>\n",
       "      <th>movieId</th>\n",
       "      <th>title</th>\n",
       "      <th>genres</th>\n",
       "      <th>userId</th>\n",
       "      <th>rating</th>\n",
       "      <th>timestamp</th>\n",
       "    </tr>\n",
       "  </thead>\n",
       "  <tbody>\n",
       "    <tr>\n",
       "      <th>0</th>\n",
       "      <td>1</td>\n",
       "      <td>Toy Story (1995)</td>\n",
       "      <td>Adventure|Animation|Children|Comedy|Fantasy</td>\n",
       "      <td>2</td>\n",
       "      <td>5.0</td>\n",
       "      <td>859046895</td>\n",
       "    </tr>\n",
       "    <tr>\n",
       "      <th>1</th>\n",
       "      <td>1</td>\n",
       "      <td>Toy Story (1995)</td>\n",
       "      <td>Adventure|Animation|Children|Comedy|Fantasy</td>\n",
       "      <td>5</td>\n",
       "      <td>4.0</td>\n",
       "      <td>1303501039</td>\n",
       "    </tr>\n",
       "    <tr>\n",
       "      <th>2</th>\n",
       "      <td>1</td>\n",
       "      <td>Toy Story (1995)</td>\n",
       "      <td>Adventure|Animation|Children|Comedy|Fantasy</td>\n",
       "      <td>8</td>\n",
       "      <td>5.0</td>\n",
       "      <td>858610933</td>\n",
       "    </tr>\n",
       "    <tr>\n",
       "      <th>3</th>\n",
       "      <td>1</td>\n",
       "      <td>Toy Story (1995)</td>\n",
       "      <td>Adventure|Animation|Children|Comedy|Fantasy</td>\n",
       "      <td>11</td>\n",
       "      <td>4.0</td>\n",
       "      <td>850815810</td>\n",
       "    </tr>\n",
       "    <tr>\n",
       "      <th>4</th>\n",
       "      <td>1</td>\n",
       "      <td>Toy Story (1995)</td>\n",
       "      <td>Adventure|Animation|Children|Comedy|Fantasy</td>\n",
       "      <td>14</td>\n",
       "      <td>4.0</td>\n",
       "      <td>851766286</td>\n",
       "    </tr>\n",
       "  </tbody>\n",
       "</table>\n",
       "</div>"
      ],
      "text/plain": [
       "   movieId             title                                       genres  \\\n",
       "0        1  Toy Story (1995)  Adventure|Animation|Children|Comedy|Fantasy   \n",
       "1        1  Toy Story (1995)  Adventure|Animation|Children|Comedy|Fantasy   \n",
       "2        1  Toy Story (1995)  Adventure|Animation|Children|Comedy|Fantasy   \n",
       "3        1  Toy Story (1995)  Adventure|Animation|Children|Comedy|Fantasy   \n",
       "4        1  Toy Story (1995)  Adventure|Animation|Children|Comedy|Fantasy   \n",
       "\n",
       "   userId  rating   timestamp  \n",
       "0       2     5.0   859046895  \n",
       "1       5     4.0  1303501039  \n",
       "2       8     5.0   858610933  \n",
       "3      11     4.0   850815810  \n",
       "4      14     4.0   851766286  "
      ]
     },
     "execution_count": 7,
     "metadata": {},
     "output_type": "execute_result"
    }
   ],
   "source": [
    "df.head()"
   ]
  },
  {
   "cell_type": "code",
   "execution_count": 8,
   "metadata": {},
   "outputs": [
    {
     "data": {
      "text/html": [
       "<div>\n",
       "<style scoped>\n",
       "    .dataframe tbody tr th:only-of-type {\n",
       "        vertical-align: middle;\n",
       "    }\n",
       "\n",
       "    .dataframe tbody tr th {\n",
       "        vertical-align: top;\n",
       "    }\n",
       "\n",
       "    .dataframe thead th {\n",
       "        text-align: right;\n",
       "    }\n",
       "</style>\n",
       "<table border=\"1\" class=\"dataframe\">\n",
       "  <thead>\n",
       "    <tr style=\"text-align: right;\">\n",
       "      <th></th>\n",
       "      <th>movieId</th>\n",
       "      <th>title</th>\n",
       "      <th>genres</th>\n",
       "      <th>userId</th>\n",
       "      <th>rating</th>\n",
       "      <th>timestamp</th>\n",
       "    </tr>\n",
       "  </thead>\n",
       "  <tbody>\n",
       "    <tr>\n",
       "      <th>105334</th>\n",
       "      <td>148238</td>\n",
       "      <td>A Very Murray Christmas (2015)</td>\n",
       "      <td>Comedy</td>\n",
       "      <td>475</td>\n",
       "      <td>3.0</td>\n",
       "      <td>1451213043</td>\n",
       "    </tr>\n",
       "    <tr>\n",
       "      <th>105335</th>\n",
       "      <td>148626</td>\n",
       "      <td>The Big Short (2015)</td>\n",
       "      <td>Drama</td>\n",
       "      <td>458</td>\n",
       "      <td>4.0</td>\n",
       "      <td>1452014749</td>\n",
       "    </tr>\n",
       "    <tr>\n",
       "      <th>105336</th>\n",
       "      <td>148626</td>\n",
       "      <td>The Big Short (2015)</td>\n",
       "      <td>Drama</td>\n",
       "      <td>576</td>\n",
       "      <td>4.5</td>\n",
       "      <td>1451687664</td>\n",
       "    </tr>\n",
       "    <tr>\n",
       "      <th>105337</th>\n",
       "      <td>148626</td>\n",
       "      <td>The Big Short (2015)</td>\n",
       "      <td>Drama</td>\n",
       "      <td>668</td>\n",
       "      <td>4.5</td>\n",
       "      <td>1451148148</td>\n",
       "    </tr>\n",
       "    <tr>\n",
       "      <th>105338</th>\n",
       "      <td>149532</td>\n",
       "      <td>Marco Polo: One Hundred Eyes (2015)</td>\n",
       "      <td>(no genres listed)</td>\n",
       "      <td>475</td>\n",
       "      <td>4.0</td>\n",
       "      <td>1451223429</td>\n",
       "    </tr>\n",
       "  </tbody>\n",
       "</table>\n",
       "</div>"
      ],
      "text/plain": [
       "        movieId                                title              genres  \\\n",
       "105334   148238       A Very Murray Christmas (2015)              Comedy   \n",
       "105335   148626                 The Big Short (2015)               Drama   \n",
       "105336   148626                 The Big Short (2015)               Drama   \n",
       "105337   148626                 The Big Short (2015)               Drama   \n",
       "105338   149532  Marco Polo: One Hundred Eyes (2015)  (no genres listed)   \n",
       "\n",
       "        userId  rating   timestamp  \n",
       "105334     475     3.0  1451213043  \n",
       "105335     458     4.0  1452014749  \n",
       "105336     576     4.5  1451687664  \n",
       "105337     668     4.5  1451148148  \n",
       "105338     475     4.0  1451223429  "
      ]
     },
     "execution_count": 8,
     "metadata": {},
     "output_type": "execute_result"
    }
   ],
   "source": [
    "df.tail()"
   ]
  },
  {
   "cell_type": "code",
   "execution_count": 9,
   "metadata": {},
   "outputs": [
    {
     "data": {
      "text/plain": [
       "(105339, 6)"
      ]
     },
     "execution_count": 9,
     "metadata": {},
     "output_type": "execute_result"
    }
   ],
   "source": [
    "df.shape"
   ]
  },
  {
   "cell_type": "code",
   "execution_count": 10,
   "metadata": {},
   "outputs": [
    {
     "data": {
      "text/plain": [
       "10325"
      ]
     },
     "execution_count": 10,
     "metadata": {},
     "output_type": "execute_result"
    }
   ],
   "source": [
    "df['movieId'].nunique()"
   ]
  },
  {
   "cell_type": "markdown",
   "metadata": {},
   "source": [
    "### Getting the years of the movies"
   ]
  },
  {
   "cell_type": "code",
   "execution_count": 11,
   "metadata": {},
   "outputs": [
    {
     "name": "stdout",
     "output_type": "stream",
     "text": [
      "2\n"
     ]
    }
   ],
   "source": [
    "years = []\n",
    "\n",
    "for title in df['title']:\n",
    "    year_subset = title[-5:-1]\n",
    "    try: years.append(int(year_subset))\n",
    "    except: years.append(9999)\n",
    "        \n",
    "df['moviePubYear'] = years\n",
    "print(len(df[df['moviePubYear'] == 9999]))"
   ]
  },
  {
   "cell_type": "code",
   "execution_count": 12,
   "metadata": {},
   "outputs": [
    {
     "data": {
      "text/html": [
       "<div>\n",
       "<style scoped>\n",
       "    .dataframe tbody tr th:only-of-type {\n",
       "        vertical-align: middle;\n",
       "    }\n",
       "\n",
       "    .dataframe tbody tr th {\n",
       "        vertical-align: top;\n",
       "    }\n",
       "\n",
       "    .dataframe thead th {\n",
       "        text-align: right;\n",
       "    }\n",
       "</style>\n",
       "<table border=\"1\" class=\"dataframe\">\n",
       "  <thead>\n",
       "    <tr style=\"text-align: right;\">\n",
       "      <th></th>\n",
       "      <th>movieId</th>\n",
       "      <th>title</th>\n",
       "      <th>genres</th>\n",
       "      <th>userId</th>\n",
       "      <th>rating</th>\n",
       "      <th>timestamp</th>\n",
       "      <th>moviePubYear</th>\n",
       "    </tr>\n",
       "  </thead>\n",
       "  <tbody>\n",
       "    <tr>\n",
       "      <th>0</th>\n",
       "      <td>1</td>\n",
       "      <td>Toy Story (1995)</td>\n",
       "      <td>Adventure|Animation|Children|Comedy|Fantasy</td>\n",
       "      <td>2</td>\n",
       "      <td>5.0</td>\n",
       "      <td>859046895</td>\n",
       "      <td>1995</td>\n",
       "    </tr>\n",
       "    <tr>\n",
       "      <th>1</th>\n",
       "      <td>1</td>\n",
       "      <td>Toy Story (1995)</td>\n",
       "      <td>Adventure|Animation|Children|Comedy|Fantasy</td>\n",
       "      <td>5</td>\n",
       "      <td>4.0</td>\n",
       "      <td>1303501039</td>\n",
       "      <td>1995</td>\n",
       "    </tr>\n",
       "    <tr>\n",
       "      <th>2</th>\n",
       "      <td>1</td>\n",
       "      <td>Toy Story (1995)</td>\n",
       "      <td>Adventure|Animation|Children|Comedy|Fantasy</td>\n",
       "      <td>8</td>\n",
       "      <td>5.0</td>\n",
       "      <td>858610933</td>\n",
       "      <td>1995</td>\n",
       "    </tr>\n",
       "    <tr>\n",
       "      <th>3</th>\n",
       "      <td>1</td>\n",
       "      <td>Toy Story (1995)</td>\n",
       "      <td>Adventure|Animation|Children|Comedy|Fantasy</td>\n",
       "      <td>11</td>\n",
       "      <td>4.0</td>\n",
       "      <td>850815810</td>\n",
       "      <td>1995</td>\n",
       "    </tr>\n",
       "    <tr>\n",
       "      <th>4</th>\n",
       "      <td>1</td>\n",
       "      <td>Toy Story (1995)</td>\n",
       "      <td>Adventure|Animation|Children|Comedy|Fantasy</td>\n",
       "      <td>14</td>\n",
       "      <td>4.0</td>\n",
       "      <td>851766286</td>\n",
       "      <td>1995</td>\n",
       "    </tr>\n",
       "  </tbody>\n",
       "</table>\n",
       "</div>"
      ],
      "text/plain": [
       "   movieId             title                                       genres  \\\n",
       "0        1  Toy Story (1995)  Adventure|Animation|Children|Comedy|Fantasy   \n",
       "1        1  Toy Story (1995)  Adventure|Animation|Children|Comedy|Fantasy   \n",
       "2        1  Toy Story (1995)  Adventure|Animation|Children|Comedy|Fantasy   \n",
       "3        1  Toy Story (1995)  Adventure|Animation|Children|Comedy|Fantasy   \n",
       "4        1  Toy Story (1995)  Adventure|Animation|Children|Comedy|Fantasy   \n",
       "\n",
       "   userId  rating   timestamp  moviePubYear  \n",
       "0       2     5.0   859046895          1995  \n",
       "1       5     4.0  1303501039          1995  \n",
       "2       8     5.0   858610933          1995  \n",
       "3      11     4.0   850815810          1995  \n",
       "4      14     4.0   851766286          1995  "
      ]
     },
     "execution_count": 12,
     "metadata": {},
     "output_type": "execute_result"
    }
   ],
   "source": [
    "df.head()"
   ]
  },
  {
   "cell_type": "markdown",
   "metadata": {},
   "source": [
    "### Function that plots a histogram"
   ]
  },
  {
   "cell_type": "code",
   "execution_count": 13,
   "metadata": {},
   "outputs": [],
   "source": [
    "def histogram(df, bins, column, title, xlabel, ylabel):\n",
    "    if column == 'moviePubYear':\n",
    "        df = df[df['moviePubYear'] != 9999]\n",
    "        \n",
    "    fig,ax = plt.subplots()\n",
    "    ax.spines['top'].set_visible(False)\n",
    "    ax.spines['right'].set_visible(False)\n",
    "    ax.set_title(title, fontsize=24, pad=20)\n",
    "    ax.set_xlabel(xlabel, fontsize=16, labelpad=20)\n",
    "    ax.set_ylabel(ylabel, fontsize=16, labelpad=20)\n",
    "    \n",
    "    # 10 bins for rating and 25 for year\n",
    "    plt.hist(df[column], bins=bins, color='royalblue', linewidth=2)"
   ]
  },
  {
   "cell_type": "code",
   "execution_count": 14,
   "metadata": {},
   "outputs": [
    {
     "data": {
      "image/png": "[encoded data removed]",
      "text/plain": [
       "<Figure size 432x288 with 1 Axes>"
      ]
     },
     "metadata": {
      "needs_background": "light"
     },
     "output_type": "display_data"
    }
   ],
   "source": [
    "histogram(df,25, 'moviePubYear', 'Number of movies per year', 'Year', 'Num of movies')"
   ]
  },
  {
   "cell_type": "code",
   "execution_count": 15,
   "metadata": {},
   "outputs": [
    {
     "data": {
      "image/png": "[encoded data removed]",
      "text/plain": [
       "<Figure size 432x288 with 1 Axes>"
      ]
     },
     "metadata": {
      "needs_background": "light"
     },
     "output_type": "display_data"
    }
   ],
   "source": [
    "histogram(df,10, 'rating', 'Number of ratings', 'ratings', 'Count')"
   ]
  },
  {
   "cell_type": "markdown",
   "metadata": {},
   "source": [
    "### Creating new dataframe of Genres"
   ]
  },
  {
   "cell_type": "code",
   "execution_count": 16,
   "metadata": {},
   "outputs": [],
   "source": [
    "genre_df = pd.DataFrame(df['genres'].str.split('|').tolist(), index=df['movieId']).stack()\n",
    "genre_df = genre_df.reset_index([0, 'movieId'])\n",
    "genre_df.columns = ['movieId', 'Genre']"
   ]
  },
  {
   "cell_type": "code",
   "execution_count": 17,
   "metadata": {},
   "outputs": [
    {
     "data": {
      "text/html": [
       "<div>\n",
       "<style scoped>\n",
       "    .dataframe tbody tr th:only-of-type {\n",
       "        vertical-align: middle;\n",
       "    }\n",
       "\n",
       "    .dataframe tbody tr th {\n",
       "        vertical-align: top;\n",
       "    }\n",
       "\n",
       "    .dataframe thead th {\n",
       "        text-align: right;\n",
       "    }\n",
       "</style>\n",
       "<table border=\"1\" class=\"dataframe\">\n",
       "  <thead>\n",
       "    <tr style=\"text-align: right;\">\n",
       "      <th></th>\n",
       "      <th>movieId</th>\n",
       "      <th>Genre</th>\n",
       "    </tr>\n",
       "  </thead>\n",
       "  <tbody>\n",
       "    <tr>\n",
       "      <th>0</th>\n",
       "      <td>1</td>\n",
       "      <td>Adventure</td>\n",
       "    </tr>\n",
       "    <tr>\n",
       "      <th>1</th>\n",
       "      <td>1</td>\n",
       "      <td>Animation</td>\n",
       "    </tr>\n",
       "    <tr>\n",
       "      <th>2</th>\n",
       "      <td>1</td>\n",
       "      <td>Children</td>\n",
       "    </tr>\n",
       "    <tr>\n",
       "      <th>3</th>\n",
       "      <td>1</td>\n",
       "      <td>Comedy</td>\n",
       "    </tr>\n",
       "    <tr>\n",
       "      <th>4</th>\n",
       "      <td>1</td>\n",
       "      <td>Fantasy</td>\n",
       "    </tr>\n",
       "  </tbody>\n",
       "</table>\n",
       "</div>"
      ],
      "text/plain": [
       "   movieId      Genre\n",
       "0        1  Adventure\n",
       "1        1  Animation\n",
       "2        1   Children\n",
       "3        1     Comedy\n",
       "4        1    Fantasy"
      ]
     },
     "execution_count": 17,
     "metadata": {},
     "output_type": "execute_result"
    }
   ],
   "source": [
    "genre_df.head()"
   ]
  },
  {
   "cell_type": "markdown",
   "metadata": {},
   "source": [
    "### Function that plots a bar graph"
   ]
  },
  {
   "cell_type": "code",
   "execution_count": 18,
   "metadata": {},
   "outputs": [],
   "source": [
    "def bar_plot(df, column, sort_index=False):\n",
    "    if sort_index == False:\n",
    "        xs = df[column].value_counts().index\n",
    "        ys = df[column].value_counts().values\n",
    "    else:\n",
    "        xs = df[column].value_counts().sort_index().index\n",
    "        ys = df[column].value_counts().sort_index().values\n",
    "        \n",
    "    fig,ax = plt.subplots(figsize=(14, 7))\n",
    "    ax.spines['top'].set_visible(False)\n",
    "    ax.spines['right'].set_visible(False)\n",
    "    ax.set_title('Most popular movie genres', fontsize=24, pad=20)\n",
    "    ax.set_xlabel('Genre', fontsize=16, labelpad=20)\n",
    "    ax.set_ylabel('Count', fontsize=16, labelpad=20)\n",
    "    plt.xticks(rotation=45)\n",
    "    \n",
    "    plt.bar(x=xs, height=ys, color='royalblue', linewidth=2)"
   ]
  },
  {
   "cell_type": "code",
   "execution_count": 19,
   "metadata": {},
   "outputs": [
    {
     "data": {
      "image/png": "[encoded data removed]",
      "text/plain": [
       "<Figure size 1008x504 with 1 Axes>"
      ]
     },
     "metadata": {
      "needs_background": "light"
     },
     "output_type": "display_data"
    }
   ],
   "source": [
    "bar_plot(genre_df, 'Genre')"
   ]
  },
  {
   "cell_type": "markdown",
   "metadata": {},
   "source": [
    "### Getting the mean rating for each genre"
   ]
  },
  {
   "cell_type": "code",
   "execution_count": 20,
   "metadata": {},
   "outputs": [],
   "source": [
    "values = defaultdict(list)\n",
    "for ind, row in df.iterrows():\n",
    "    for genre in row['genres'].split('|'):\n",
    "        values[genre].append(row['rating'])\n",
    "        \n",
    "        \n",
    "genre_lst, rating_lst = [], []\n",
    "for key, item in values.items():\n",
    "    if key not in [0, 1]:\n",
    "        genre_lst.append(key)\n",
    "        rating_lst.append(np.mean(item))\n",
    "        \n",
    "        \n",
    "genres_with_ratings = pd.DataFrame([genre_lst, rating_lst]).T\n",
    "genres_with_ratings.columns = ['Genre', 'Mean_Rating']"
   ]
  },
  {
   "cell_type": "code",
   "execution_count": 21,
   "metadata": {},
   "outputs": [
    {
     "data": {
      "text/html": [
       "<div>\n",
       "<style scoped>\n",
       "    .dataframe tbody tr th:only-of-type {\n",
       "        vertical-align: middle;\n",
       "    }\n",
       "\n",
       "    .dataframe tbody tr th {\n",
       "        vertical-align: top;\n",
       "    }\n",
       "\n",
       "    .dataframe thead th {\n",
       "        text-align: right;\n",
       "    }\n",
       "</style>\n",
       "<table border=\"1\" class=\"dataframe\">\n",
       "  <thead>\n",
       "    <tr style=\"text-align: right;\">\n",
       "      <th></th>\n",
       "      <th>Genre</th>\n",
       "      <th>Mean_Rating</th>\n",
       "    </tr>\n",
       "  </thead>\n",
       "  <tbody>\n",
       "    <tr>\n",
       "      <th>0</th>\n",
       "      <td>Adventure</td>\n",
       "      <td>3.51803</td>\n",
       "    </tr>\n",
       "    <tr>\n",
       "      <th>1</th>\n",
       "      <td>Animation</td>\n",
       "      <td>3.63535</td>\n",
       "    </tr>\n",
       "    <tr>\n",
       "      <th>2</th>\n",
       "      <td>Children</td>\n",
       "      <td>3.43943</td>\n",
       "    </tr>\n",
       "    <tr>\n",
       "      <th>3</th>\n",
       "      <td>Comedy</td>\n",
       "      <td>3.421</td>\n",
       "    </tr>\n",
       "    <tr>\n",
       "      <th>4</th>\n",
       "      <td>Fantasy</td>\n",
       "      <td>3.50046</td>\n",
       "    </tr>\n",
       "  </tbody>\n",
       "</table>\n",
       "</div>"
      ],
      "text/plain": [
       "       Genre Mean_Rating\n",
       "0  Adventure     3.51803\n",
       "1  Animation     3.63535\n",
       "2   Children     3.43943\n",
       "3     Comedy       3.421\n",
       "4    Fantasy     3.50046"
      ]
     },
     "execution_count": 21,
     "metadata": {},
     "output_type": "execute_result"
    }
   ],
   "source": [
    "genres_with_ratings.head()"
   ]
  },
  {
   "cell_type": "markdown",
   "metadata": {},
   "source": [
    "### Getting the total number of ratings for each movie"
   ]
  },
  {
   "cell_type": "code",
   "execution_count": 22,
   "metadata": {},
   "outputs": [],
   "source": [
    "num_ratings = pd.DataFrame(df.groupby('movieId').count()['rating']).reset_index()\n",
    "df = pd.merge(left=df, right=num_ratings, on='movieId')\n",
    "df.rename(columns={'rating_x': 'rating', 'rating_y': 'numRatings'}, inplace=True)"
   ]
  },
  {
   "cell_type": "code",
   "execution_count": 23,
   "metadata": {},
   "outputs": [
    {
     "data": {
      "text/html": [
       "<div>\n",
       "<style scoped>\n",
       "    .dataframe tbody tr th:only-of-type {\n",
       "        vertical-align: middle;\n",
       "    }\n",
       "\n",
       "    .dataframe tbody tr th {\n",
       "        vertical-align: top;\n",
       "    }\n",
       "\n",
       "    .dataframe thead th {\n",
       "        text-align: right;\n",
       "    }\n",
       "</style>\n",
       "<table border=\"1\" class=\"dataframe\">\n",
       "  <thead>\n",
       "    <tr style=\"text-align: right;\">\n",
       "      <th></th>\n",
       "      <th>movieId</th>\n",
       "      <th>title</th>\n",
       "      <th>genres</th>\n",
       "      <th>userId</th>\n",
       "      <th>rating</th>\n",
       "      <th>timestamp</th>\n",
       "      <th>moviePubYear</th>\n",
       "      <th>numRatings</th>\n",
       "    </tr>\n",
       "  </thead>\n",
       "  <tbody>\n",
       "    <tr>\n",
       "      <th>8815</th>\n",
       "      <td>296</td>\n",
       "      <td>Pulp Fiction (1994)</td>\n",
       "      <td>Comedy|Crime|Drama|Thriller</td>\n",
       "      <td>223</td>\n",
       "      <td>5.0</td>\n",
       "      <td>948941040</td>\n",
       "      <td>1994</td>\n",
       "      <td>325</td>\n",
       "    </tr>\n",
       "    <tr>\n",
       "      <th>11163</th>\n",
       "      <td>356</td>\n",
       "      <td>Forrest Gump (1994)</td>\n",
       "      <td>Comedy|Drama|Romance|War</td>\n",
       "      <td>196</td>\n",
       "      <td>5.0</td>\n",
       "      <td>834707483</td>\n",
       "      <td>1994</td>\n",
       "      <td>311</td>\n",
       "    </tr>\n",
       "    <tr>\n",
       "      <th>9624</th>\n",
       "      <td>318</td>\n",
       "      <td>Shawshank Redemption, The (1994)</td>\n",
       "      <td>Crime|Drama</td>\n",
       "      <td>70</td>\n",
       "      <td>5.0</td>\n",
       "      <td>1252701714</td>\n",
       "      <td>1994</td>\n",
       "      <td>308</td>\n",
       "    </tr>\n",
       "    <tr>\n",
       "      <th>14740</th>\n",
       "      <td>480</td>\n",
       "      <td>Jurassic Park (1993)</td>\n",
       "      <td>Action|Adventure|Sci-Fi|Thriller</td>\n",
       "      <td>431</td>\n",
       "      <td>4.0</td>\n",
       "      <td>839893514</td>\n",
       "      <td>1993</td>\n",
       "      <td>294</td>\n",
       "    </tr>\n",
       "    <tr>\n",
       "      <th>18515</th>\n",
       "      <td>593</td>\n",
       "      <td>Silence of the Lambs, The (1991)</td>\n",
       "      <td>Crime|Horror|Thriller</td>\n",
       "      <td>318</td>\n",
       "      <td>3.0</td>\n",
       "      <td>842517264</td>\n",
       "      <td>1991</td>\n",
       "      <td>290</td>\n",
       "    </tr>\n",
       "    <tr>\n",
       "      <th>7582</th>\n",
       "      <td>260</td>\n",
       "      <td>Star Wars: Episode IV - A New Hope (1977)</td>\n",
       "      <td>Action|Adventure|Sci-Fi</td>\n",
       "      <td>50</td>\n",
       "      <td>3.0</td>\n",
       "      <td>905249982</td>\n",
       "      <td>1977</td>\n",
       "      <td>273</td>\n",
       "    </tr>\n",
       "    <tr>\n",
       "      <th>53498</th>\n",
       "      <td>2571</td>\n",
       "      <td>Matrix, The (1999)</td>\n",
       "      <td>Action|Sci-Fi|Thriller</td>\n",
       "      <td>277</td>\n",
       "      <td>4.0</td>\n",
       "      <td>1445249840</td>\n",
       "      <td>1999</td>\n",
       "      <td>261</td>\n",
       "    </tr>\n",
       "    <tr>\n",
       "      <th>17810</th>\n",
       "      <td>589</td>\n",
       "      <td>Terminator 2: Judgment Day (1991)</td>\n",
       "      <td>Action|Sci-Fi</td>\n",
       "      <td>278</td>\n",
       "      <td>4.0</td>\n",
       "      <td>1341360389</td>\n",
       "      <td>1991</td>\n",
       "      <td>253</td>\n",
       "    </tr>\n",
       "    <tr>\n",
       "      <th>3958</th>\n",
       "      <td>110</td>\n",
       "      <td>Braveheart (1995)</td>\n",
       "      <td>Action|Drama|War</td>\n",
       "      <td>451</td>\n",
       "      <td>4.0</td>\n",
       "      <td>1130836510</td>\n",
       "      <td>1995</td>\n",
       "      <td>248</td>\n",
       "    </tr>\n",
       "    <tr>\n",
       "      <th>15875</th>\n",
       "      <td>527</td>\n",
       "      <td>Schindler's List (1993)</td>\n",
       "      <td>Drama|War</td>\n",
       "      <td>7</td>\n",
       "      <td>2.5</td>\n",
       "      <td>1322058520</td>\n",
       "      <td>1993</td>\n",
       "      <td>248</td>\n",
       "    </tr>\n",
       "  </tbody>\n",
       "</table>\n",
       "</div>"
      ],
      "text/plain": [
       "       movieId                                      title  \\\n",
       "8815       296                        Pulp Fiction (1994)   \n",
       "11163      356                        Forrest Gump (1994)   \n",
       "9624       318           Shawshank Redemption, The (1994)   \n",
       "14740      480                       Jurassic Park (1993)   \n",
       "18515      593           Silence of the Lambs, The (1991)   \n",
       "7582       260  Star Wars: Episode IV - A New Hope (1977)   \n",
       "53498     2571                         Matrix, The (1999)   \n",
       "17810      589          Terminator 2: Judgment Day (1991)   \n",
       "3958       110                          Braveheart (1995)   \n",
       "15875      527                    Schindler's List (1993)   \n",
       "\n",
       "                                 genres  userId  rating   timestamp  \\\n",
       "8815        Comedy|Crime|Drama|Thriller     223     5.0   948941040   \n",
       "11163          Comedy|Drama|Romance|War     196     5.0   834707483   \n",
       "9624                        Crime|Drama      70     5.0  1252701714   \n",
       "14740  Action|Adventure|Sci-Fi|Thriller     431     4.0   839893514   \n",
       "18515             Crime|Horror|Thriller     318     3.0   842517264   \n",
       "7582            Action|Adventure|Sci-Fi      50     3.0   905249982   \n",
       "53498            Action|Sci-Fi|Thriller     277     4.0  1445249840   \n",
       "17810                     Action|Sci-Fi     278     4.0  1341360389   \n",
       "3958                   Action|Drama|War     451     4.0  1130836510   \n",
       "15875                         Drama|War       7     2.5  1322058520   \n",
       "\n",
       "       moviePubYear  numRatings  \n",
       "8815           1994         325  \n",
       "11163          1994         311  \n",
       "9624           1994         308  \n",
       "14740          1993         294  \n",
       "18515          1991         290  \n",
       "7582           1977         273  \n",
       "53498          1999         261  \n",
       "17810          1991         253  \n",
       "3958           1995         248  \n",
       "15875          1993         248  "
      ]
     },
     "execution_count": 23,
     "metadata": {},
     "output_type": "execute_result"
    }
   ],
   "source": [
    "df.sort_values(by='numRatings', ascending=False).drop_duplicates('movieId')[:10]"
   ]
  },
  {
   "cell_type": "markdown",
   "metadata": {},
   "source": [
    "### Plotting scatter graph of the relationship between Rating and number of ratings"
   ]
  },
  {
   "cell_type": "code",
   "execution_count": 24,
   "metadata": {},
   "outputs": [
    {
     "data": {
      "text/plain": [
       "<matplotlib.collections.PathCollection at 0x212664c0>"
      ]
     },
     "execution_count": 24,
     "metadata": {},
     "output_type": "execute_result"
    },
    {
     "data": {
      "image/png": "[encoded data removed]",
      "text/plain": [
       "<Figure size 1008x504 with 1 Axes>"
      ]
     },
     "metadata": {
      "needs_background": "light"
     },
     "output_type": "display_data"
    }
   ],
   "source": [
    "ratings_df = pd.DataFrame()\n",
    "ratings_df['Mean_Rating'] = df.groupby('title')['rating'].mean().values\n",
    "ratings_df['Num_Ratings'] = df.groupby('title')['rating'].count().values\n",
    "\n",
    "\n",
    "fig, ax = plt.subplots(figsize=(14, 7))\n",
    "ax.spines['top'].set_visible(False)\n",
    "ax.spines['right'].set_visible(False)\n",
    "ax.set_title('Rating vs. Number of Ratings', fontsize=24, pad=20)\n",
    "ax.set_xlabel('Rating', fontsize=16, labelpad=20)\n",
    "ax.set_ylabel('Number of Ratings', fontsize=16, labelpad=20)\n",
    "\n",
    "plt.scatter(ratings_df['Mean_Rating'], ratings_df['Num_Ratings'], alpha=0.5)"
   ]
  },
  {
   "cell_type": "markdown",
   "metadata": {},
   "source": [
    "### Making the matrix(userID by Movies)"
   ]
  },
  {
   "cell_type": "code",
   "execution_count": 25,
   "metadata": {},
   "outputs": [],
   "source": [
    "matrix = df.pivot_table(\n",
    "    index='userId',\n",
    "    columns='title',\n",
    "    values='rating'\n",
    ")"
   ]
  },
  {
   "cell_type": "code",
   "execution_count": null,
   "metadata": {},
   "outputs": [],
   "source": []
  },
  {
   "cell_type": "code",
   "execution_count": 26,
   "metadata": {},
   "outputs": [
    {
     "data": {
      "text/html": [
       "<div>\n",
       "<style scoped>\n",
       "    .dataframe tbody tr th:only-of-type {\n",
       "        vertical-align: middle;\n",
       "    }\n",
       "\n",
       "    .dataframe tbody tr th {\n",
       "        vertical-align: top;\n",
       "    }\n",
       "\n",
       "    .dataframe thead th {\n",
       "        text-align: right;\n",
       "    }\n",
       "</style>\n",
       "<table border=\"1\" class=\"dataframe\">\n",
       "  <thead>\n",
       "    <tr style=\"text-align: right;\">\n",
       "      <th>title</th>\n",
       "      <th>'71 (2014)</th>\n",
       "      <th>'Hellboy': The Seeds of Creation (2004)</th>\n",
       "      <th>'Round Midnight (1986)</th>\n",
       "      <th>'Til There Was You (1997)</th>\n",
       "      <th>'burbs, The (1989)</th>\n",
       "      <th>'night Mother (1986)</th>\n",
       "      <th>(500) Days of Summer (2009)</th>\n",
       "      <th>*batteries not included (1987)</th>\n",
       "      <th>...And Justice for All (1979)</th>\n",
       "      <th>10 (1979)</th>\n",
       "      <th>...</th>\n",
       "      <th>[REC] (2007)</th>\n",
       "      <th>[REC]² (2009)</th>\n",
       "      <th>[REC]³ 3 Génesis (2012)</th>\n",
       "      <th>a/k/a Tommy Chong (2005)</th>\n",
       "      <th>eXistenZ (1999)</th>\n",
       "      <th>loudQUIETloud: A Film About the Pixies (2006)</th>\n",
       "      <th>xXx (2002)</th>\n",
       "      <th>xXx: State of the Union (2005)</th>\n",
       "      <th>¡Three Amigos! (1986)</th>\n",
       "      <th>À nous la liberté (Freedom for Us) (1931)</th>\n",
       "    </tr>\n",
       "    <tr>\n",
       "      <th>userId</th>\n",
       "      <th></th>\n",
       "      <th></th>\n",
       "      <th></th>\n",
       "      <th></th>\n",
       "      <th></th>\n",
       "      <th></th>\n",
       "      <th></th>\n",
       "      <th></th>\n",
       "      <th></th>\n",
       "      <th></th>\n",
       "      <th></th>\n",
       "      <th></th>\n",
       "      <th></th>\n",
       "      <th></th>\n",
       "      <th></th>\n",
       "      <th></th>\n",
       "      <th></th>\n",
       "      <th></th>\n",
       "      <th></th>\n",
       "      <th></th>\n",
       "      <th></th>\n",
       "    </tr>\n",
       "  </thead>\n",
       "  <tbody>\n",
       "    <tr>\n",
       "      <th>1</th>\n",
       "      <td>NaN</td>\n",
       "      <td>NaN</td>\n",
       "      <td>NaN</td>\n",
       "      <td>NaN</td>\n",
       "      <td>NaN</td>\n",
       "      <td>NaN</td>\n",
       "      <td>NaN</td>\n",
       "      <td>NaN</td>\n",
       "      <td>NaN</td>\n",
       "      <td>NaN</td>\n",
       "      <td>...</td>\n",
       "      <td>NaN</td>\n",
       "      <td>NaN</td>\n",
       "      <td>NaN</td>\n",
       "      <td>NaN</td>\n",
       "      <td>NaN</td>\n",
       "      <td>NaN</td>\n",
       "      <td>NaN</td>\n",
       "      <td>NaN</td>\n",
       "      <td>NaN</td>\n",
       "      <td>NaN</td>\n",
       "    </tr>\n",
       "    <tr>\n",
       "      <th>2</th>\n",
       "      <td>NaN</td>\n",
       "      <td>NaN</td>\n",
       "      <td>NaN</td>\n",
       "      <td>NaN</td>\n",
       "      <td>NaN</td>\n",
       "      <td>NaN</td>\n",
       "      <td>NaN</td>\n",
       "      <td>NaN</td>\n",
       "      <td>NaN</td>\n",
       "      <td>NaN</td>\n",
       "      <td>...</td>\n",
       "      <td>NaN</td>\n",
       "      <td>NaN</td>\n",
       "      <td>NaN</td>\n",
       "      <td>NaN</td>\n",
       "      <td>NaN</td>\n",
       "      <td>NaN</td>\n",
       "      <td>NaN</td>\n",
       "      <td>NaN</td>\n",
       "      <td>NaN</td>\n",
       "      <td>NaN</td>\n",
       "    </tr>\n",
       "    <tr>\n",
       "      <th>3</th>\n",
       "      <td>NaN</td>\n",
       "      <td>NaN</td>\n",
       "      <td>NaN</td>\n",
       "      <td>NaN</td>\n",
       "      <td>NaN</td>\n",
       "      <td>NaN</td>\n",
       "      <td>NaN</td>\n",
       "      <td>NaN</td>\n",
       "      <td>NaN</td>\n",
       "      <td>NaN</td>\n",
       "      <td>...</td>\n",
       "      <td>NaN</td>\n",
       "      <td>NaN</td>\n",
       "      <td>NaN</td>\n",
       "      <td>NaN</td>\n",
       "      <td>NaN</td>\n",
       "      <td>NaN</td>\n",
       "      <td>NaN</td>\n",
       "      <td>NaN</td>\n",
       "      <td>NaN</td>\n",
       "      <td>NaN</td>\n",
       "    </tr>\n",
       "    <tr>\n",
       "      <th>4</th>\n",
       "      <td>NaN</td>\n",
       "      <td>NaN</td>\n",
       "      <td>NaN</td>\n",
       "      <td>NaN</td>\n",
       "      <td>NaN</td>\n",
       "      <td>NaN</td>\n",
       "      <td>NaN</td>\n",
       "      <td>NaN</td>\n",
       "      <td>NaN</td>\n",
       "      <td>NaN</td>\n",
       "      <td>...</td>\n",
       "      <td>NaN</td>\n",
       "      <td>NaN</td>\n",
       "      <td>NaN</td>\n",
       "      <td>NaN</td>\n",
       "      <td>NaN</td>\n",
       "      <td>NaN</td>\n",
       "      <td>NaN</td>\n",
       "      <td>NaN</td>\n",
       "      <td>NaN</td>\n",
       "      <td>NaN</td>\n",
       "    </tr>\n",
       "    <tr>\n",
       "      <th>5</th>\n",
       "      <td>NaN</td>\n",
       "      <td>NaN</td>\n",
       "      <td>NaN</td>\n",
       "      <td>NaN</td>\n",
       "      <td>NaN</td>\n",
       "      <td>NaN</td>\n",
       "      <td>NaN</td>\n",
       "      <td>NaN</td>\n",
       "      <td>NaN</td>\n",
       "      <td>NaN</td>\n",
       "      <td>...</td>\n",
       "      <td>NaN</td>\n",
       "      <td>NaN</td>\n",
       "      <td>NaN</td>\n",
       "      <td>NaN</td>\n",
       "      <td>NaN</td>\n",
       "      <td>NaN</td>\n",
       "      <td>NaN</td>\n",
       "      <td>NaN</td>\n",
       "      <td>NaN</td>\n",
       "      <td>NaN</td>\n",
       "    </tr>\n",
       "  </tbody>\n",
       "</table>\n",
       "<p>5 rows × 10323 columns</p>\n",
       "</div>"
      ],
      "text/plain": [
       "title   '71 (2014)  'Hellboy': The Seeds of Creation (2004)  \\\n",
       "userId                                                        \n",
       "1              NaN                                      NaN   \n",
       "2              NaN                                      NaN   \n",
       "3              NaN                                      NaN   \n",
       "4              NaN                                      NaN   \n",
       "5              NaN                                      NaN   \n",
       "\n",
       "title   'Round Midnight (1986)  'Til There Was You (1997)  'burbs, The (1989)  \\\n",
       "userId                                                                          \n",
       "1                          NaN                        NaN                 NaN   \n",
       "2                          NaN                        NaN                 NaN   \n",
       "3                          NaN                        NaN                 NaN   \n",
       "4                          NaN                        NaN                 NaN   \n",
       "5                          NaN                        NaN                 NaN   \n",
       "\n",
       "title   'night Mother (1986)  (500) Days of Summer (2009)  \\\n",
       "userId                                                      \n",
       "1                        NaN                          NaN   \n",
       "2                        NaN                          NaN   \n",
       "3                        NaN                          NaN   \n",
       "4                        NaN                          NaN   \n",
       "5                        NaN                          NaN   \n",
       "\n",
       "title   *batteries not included (1987)  ...And Justice for All (1979)  \\\n",
       "userId                                                                  \n",
       "1                                  NaN                            NaN   \n",
       "2                                  NaN                            NaN   \n",
       "3                                  NaN                            NaN   \n",
       "4                                  NaN                            NaN   \n",
       "5                                  NaN                            NaN   \n",
       "\n",
       "title   10 (1979)  ...  [REC] (2007)  [REC]² (2009)  [REC]³ 3 Génesis (2012)  \\\n",
       "userId             ...                                                         \n",
       "1             NaN  ...           NaN            NaN                      NaN   \n",
       "2             NaN  ...           NaN            NaN                      NaN   \n",
       "3             NaN  ...           NaN            NaN                      NaN   \n",
       "4             NaN  ...           NaN            NaN                      NaN   \n",
       "5             NaN  ...           NaN            NaN                      NaN   \n",
       "\n",
       "title   a/k/a Tommy Chong (2005)  eXistenZ (1999)  \\\n",
       "userId                                              \n",
       "1                            NaN              NaN   \n",
       "2                            NaN              NaN   \n",
       "3                            NaN              NaN   \n",
       "4                            NaN              NaN   \n",
       "5                            NaN              NaN   \n",
       "\n",
       "title   loudQUIETloud: A Film About the Pixies (2006)  xXx (2002)  \\\n",
       "userId                                                              \n",
       "1                                                 NaN         NaN   \n",
       "2                                                 NaN         NaN   \n",
       "3                                                 NaN         NaN   \n",
       "4                                                 NaN         NaN   \n",
       "5                                                 NaN         NaN   \n",
       "\n",
       "title   xXx: State of the Union (2005)  ¡Three Amigos! (1986)  \\\n",
       "userId                                                          \n",
       "1                                  NaN                    NaN   \n",
       "2                                  NaN                    NaN   \n",
       "3                                  NaN                    NaN   \n",
       "4                                  NaN                    NaN   \n",
       "5                                  NaN                    NaN   \n",
       "\n",
       "title   À nous la liberté (Freedom for Us) (1931)  \n",
       "userId                                             \n",
       "1                                             NaN  \n",
       "2                                             NaN  \n",
       "3                                             NaN  \n",
       "4                                             NaN  \n",
       "5                                             NaN  \n",
       "\n",
       "[5 rows x 10323 columns]"
      ]
     },
     "execution_count": 26,
     "metadata": {},
     "output_type": "execute_result"
    }
   ],
   "source": [
    "matrix.head()"
   ]
  },
  {
   "cell_type": "markdown",
   "metadata": {},
   "source": [
    "#### We can see is full of NaN values (because the users dont rate multiple movies)"
   ]
  },
  {
   "cell_type": "markdown",
   "metadata": {},
   "source": [
    "### The recommender function that calculates the correlation between movies and print the top 5"
   ]
  },
  {
   "cell_type": "code",
   "execution_count": 57,
   "metadata": {},
   "outputs": [],
   "source": [
    "def recommender(movie_title, n_ratings_filter=80, n_recommendations=5):\n",
    "    similar = matrix.corrwith(matrix[movie_title])\n",
    "    corr_similar = pd.DataFrame(similar, columns=['correlation'])\n",
    "    corr_similar.dropna(inplace=True)\n",
    "    \n",
    "    orig = df.copy()\n",
    "    \n",
    "    corr_with_movie = pd.merge(\n",
    "        left=corr_similar, \n",
    "        right=orig, \n",
    "        on='title')[['title', 'correlation', 'numRatings']].drop_duplicates().reset_index(drop=True)\n",
    "    \n",
    "    result = corr_with_movie[corr_with_movie['numRatings'] > n_ratings_filter].sort_values(by='correlation', ascending=False)\n",
    "    \n",
    "    return result.head(n_recommendations)"
   ]
  },
  {
   "cell_type": "code",
   "execution_count": null,
   "metadata": {},
   "outputs": [],
   "source": []
  },
  {
   "cell_type": "markdown",
   "metadata": {},
   "source": [
    "### Now let's test it!"
   ]
  },
  {
   "cell_type": "code",
   "execution_count": 58,
   "metadata": {},
   "outputs": [
    {
     "data": {
      "text/html": [
       "<div>\n",
       "<style scoped>\n",
       "    .dataframe tbody tr th:only-of-type {\n",
       "        vertical-align: middle;\n",
       "    }\n",
       "\n",
       "    .dataframe tbody tr th {\n",
       "        vertical-align: top;\n",
       "    }\n",
       "\n",
       "    .dataframe thead th {\n",
       "        text-align: right;\n",
       "    }\n",
       "</style>\n",
       "<table border=\"1\" class=\"dataframe\">\n",
       "  <thead>\n",
       "    <tr style=\"text-align: right;\">\n",
       "      <th></th>\n",
       "      <th>title</th>\n",
       "      <th>correlation</th>\n",
       "      <th>numRatings</th>\n",
       "    </tr>\n",
       "  </thead>\n",
       "  <tbody>\n",
       "    <tr>\n",
       "      <th>3846</th>\n",
       "      <td>Pulp Fiction (1994)</td>\n",
       "      <td>1.000000</td>\n",
       "      <td>325</td>\n",
       "    </tr>\n",
       "    <tr>\n",
       "      <th>510</th>\n",
       "      <td>Being John Malkovich (1999)</td>\n",
       "      <td>0.542833</td>\n",
       "      <td>124</td>\n",
       "    </tr>\n",
       "    <tr>\n",
       "      <th>2628</th>\n",
       "      <td>Kill Bill: Vol. 2 (2004)</td>\n",
       "      <td>0.530735</td>\n",
       "      <td>91</td>\n",
       "    </tr>\n",
       "    <tr>\n",
       "      <th>3985</th>\n",
       "      <td>Reservoir Dogs (1992)</td>\n",
       "      <td>0.472520</td>\n",
       "      <td>131</td>\n",
       "    </tr>\n",
       "    <tr>\n",
       "      <th>849</th>\n",
       "      <td>Casino (1995)</td>\n",
       "      <td>0.444799</td>\n",
       "      <td>84</td>\n",
       "    </tr>\n",
       "  </tbody>\n",
       "</table>\n",
       "</div>"
      ],
      "text/plain": [
       "                            title  correlation  numRatings\n",
       "3846          Pulp Fiction (1994)     1.000000         325\n",
       "510   Being John Malkovich (1999)     0.542833         124\n",
       "2628     Kill Bill: Vol. 2 (2004)     0.530735          91\n",
       "3985        Reservoir Dogs (1992)     0.472520         131\n",
       "849                 Casino (1995)     0.444799          84"
      ]
     },
     "execution_count": 58,
     "metadata": {},
     "output_type": "execute_result"
    }
   ],
   "source": [
    "recommender('Pulp Fiction (1994)')"
   ]
  },
  {
   "cell_type": "code",
   "execution_count": 59,
   "metadata": {},
   "outputs": [
    {
     "data": {
      "text/html": [
       "<div>\n",
       "<style scoped>\n",
       "    .dataframe tbody tr th:only-of-type {\n",
       "        vertical-align: middle;\n",
       "    }\n",
       "\n",
       "    .dataframe tbody tr th {\n",
       "        vertical-align: top;\n",
       "    }\n",
       "\n",
       "    .dataframe thead th {\n",
       "        text-align: right;\n",
       "    }\n",
       "</style>\n",
       "<table border=\"1\" class=\"dataframe\">\n",
       "  <thead>\n",
       "    <tr style=\"text-align: right;\">\n",
       "      <th></th>\n",
       "      <th>title</th>\n",
       "      <th>correlation</th>\n",
       "      <th>numRatings</th>\n",
       "    </tr>\n",
       "  </thead>\n",
       "  <tbody>\n",
       "    <tr>\n",
       "      <th>1773</th>\n",
       "      <td>Forrest Gump (1994)</td>\n",
       "      <td>1.000000</td>\n",
       "      <td>311</td>\n",
       "    </tr>\n",
       "    <tr>\n",
       "      <th>345</th>\n",
       "      <td>As Good as It Gets (1997)</td>\n",
       "      <td>0.521448</td>\n",
       "      <td>98</td>\n",
       "    </tr>\n",
       "    <tr>\n",
       "      <th>3295</th>\n",
       "      <td>Mr. Holland's Opus (1995)</td>\n",
       "      <td>0.500052</td>\n",
       "      <td>91</td>\n",
       "    </tr>\n",
       "    <tr>\n",
       "      <th>4353</th>\n",
       "      <td>Shawshank Redemption, The (1994)</td>\n",
       "      <td>0.471145</td>\n",
       "      <td>308</td>\n",
       "    </tr>\n",
       "    <tr>\n",
       "      <th>1909</th>\n",
       "      <td>Ghost (1990)</td>\n",
       "      <td>0.462485</td>\n",
       "      <td>142</td>\n",
       "    </tr>\n",
       "  </tbody>\n",
       "</table>\n",
       "</div>"
      ],
      "text/plain": [
       "                                 title  correlation  numRatings\n",
       "1773               Forrest Gump (1994)     1.000000         311\n",
       "345          As Good as It Gets (1997)     0.521448          98\n",
       "3295         Mr. Holland's Opus (1995)     0.500052          91\n",
       "4353  Shawshank Redemption, The (1994)     0.471145         308\n",
       "1909                      Ghost (1990)     0.462485         142"
      ]
     },
     "execution_count": 59,
     "metadata": {},
     "output_type": "execute_result"
    }
   ],
   "source": [
    "recommender('Forrest Gump (1994)')"
   ]
  },
  {
   "cell_type": "code",
   "execution_count": 60,
   "metadata": {},
   "outputs": [
    {
     "data": {
      "text/html": [
       "<div>\n",
       "<style scoped>\n",
       "    .dataframe tbody tr th:only-of-type {\n",
       "        vertical-align: middle;\n",
       "    }\n",
       "\n",
       "    .dataframe tbody tr th {\n",
       "        vertical-align: top;\n",
       "    }\n",
       "\n",
       "    .dataframe thead th {\n",
       "        text-align: right;\n",
       "    }\n",
       "</style>\n",
       "<table border=\"1\" class=\"dataframe\">\n",
       "  <thead>\n",
       "    <tr style=\"text-align: right;\">\n",
       "      <th></th>\n",
       "      <th>title</th>\n",
       "      <th>correlation</th>\n",
       "      <th>numRatings</th>\n",
       "    </tr>\n",
       "  </thead>\n",
       "  <tbody>\n",
       "    <tr>\n",
       "      <th>3502</th>\n",
       "      <td>Reservoir Dogs (1992)</td>\n",
       "      <td>1.000000</td>\n",
       "      <td>131</td>\n",
       "    </tr>\n",
       "    <tr>\n",
       "      <th>3112</th>\n",
       "      <td>One Flew Over the Cuckoo's Nest (1975)</td>\n",
       "      <td>0.546813</td>\n",
       "      <td>143</td>\n",
       "    </tr>\n",
       "    <tr>\n",
       "      <th>1757</th>\n",
       "      <td>Goodfellas (1990)</td>\n",
       "      <td>0.521212</td>\n",
       "      <td>135</td>\n",
       "    </tr>\n",
       "    <tr>\n",
       "      <th>4340</th>\n",
       "      <td>Trainspotting (1996)</td>\n",
       "      <td>0.507353</td>\n",
       "      <td>114</td>\n",
       "    </tr>\n",
       "    <tr>\n",
       "      <th>755</th>\n",
       "      <td>Casino (1995)</td>\n",
       "      <td>0.502558</td>\n",
       "      <td>84</td>\n",
       "    </tr>\n",
       "  </tbody>\n",
       "</table>\n",
       "</div>"
      ],
      "text/plain": [
       "                                       title  correlation  numRatings\n",
       "3502                   Reservoir Dogs (1992)     1.000000         131\n",
       "3112  One Flew Over the Cuckoo's Nest (1975)     0.546813         143\n",
       "1757                       Goodfellas (1990)     0.521212         135\n",
       "4340                    Trainspotting (1996)     0.507353         114\n",
       "755                            Casino (1995)     0.502558          84"
      ]
     },
     "execution_count": 60,
     "metadata": {},
     "output_type": "execute_result"
    }
   ],
   "source": [
    "recommender('Reservoir Dogs (1992)')"
   ]
  },
  {
   "cell_type": "code",
   "execution_count": 61,
   "metadata": {},
   "outputs": [
    {
     "data": {
      "text/html": [
       "<div>\n",
       "<style scoped>\n",
       "    .dataframe tbody tr th:only-of-type {\n",
       "        vertical-align: middle;\n",
       "    }\n",
       "\n",
       "    .dataframe tbody tr th {\n",
       "        vertical-align: top;\n",
       "    }\n",
       "\n",
       "    .dataframe thead th {\n",
       "        text-align: right;\n",
       "    }\n",
       "</style>\n",
       "<table border=\"1\" class=\"dataframe\">\n",
       "  <thead>\n",
       "    <tr style=\"text-align: right;\">\n",
       "      <th></th>\n",
       "      <th>title</th>\n",
       "      <th>correlation</th>\n",
       "      <th>numRatings</th>\n",
       "    </tr>\n",
       "  </thead>\n",
       "  <tbody>\n",
       "    <tr>\n",
       "      <th>2699</th>\n",
       "      <td>Minority Report (2002)</td>\n",
       "      <td>1.000000</td>\n",
       "      <td>108</td>\n",
       "    </tr>\n",
       "    <tr>\n",
       "      <th>3591</th>\n",
       "      <td>Sense and Sensibility (1995)</td>\n",
       "      <td>0.606676</td>\n",
       "      <td>100</td>\n",
       "    </tr>\n",
       "    <tr>\n",
       "      <th>3254</th>\n",
       "      <td>Psycho (1960)</td>\n",
       "      <td>0.584988</td>\n",
       "      <td>86</td>\n",
       "    </tr>\n",
       "    <tr>\n",
       "      <th>832</th>\n",
       "      <td>Cliffhanger (1993)</td>\n",
       "      <td>0.520355</td>\n",
       "      <td>114</td>\n",
       "    </tr>\n",
       "    <tr>\n",
       "      <th>4159</th>\n",
       "      <td>Toy Story 2 (1999)</td>\n",
       "      <td>0.515564</td>\n",
       "      <td>104</td>\n",
       "    </tr>\n",
       "  </tbody>\n",
       "</table>\n",
       "</div>"
      ],
      "text/plain": [
       "                             title  correlation  numRatings\n",
       "2699        Minority Report (2002)     1.000000         108\n",
       "3591  Sense and Sensibility (1995)     0.606676         100\n",
       "3254                 Psycho (1960)     0.584988          86\n",
       "832             Cliffhanger (1993)     0.520355         114\n",
       "4159            Toy Story 2 (1999)     0.515564         104"
      ]
     },
     "execution_count": 61,
     "metadata": {},
     "output_type": "execute_result"
    }
   ],
   "source": [
    "recommender('Minority Report (2002)')"
   ]
  },
  {
   "cell_type": "code",
   "execution_count": 62,
   "metadata": {},
   "outputs": [
    {
     "data": {
      "text/html": [
       "<div>\n",
       "<style scoped>\n",
       "    .dataframe tbody tr th:only-of-type {\n",
       "        vertical-align: middle;\n",
       "    }\n",
       "\n",
       "    .dataframe tbody tr th {\n",
       "        vertical-align: top;\n",
       "    }\n",
       "\n",
       "    .dataframe thead th {\n",
       "        text-align: right;\n",
       "    }\n",
       "</style>\n",
       "<table border=\"1\" class=\"dataframe\">\n",
       "  <thead>\n",
       "    <tr style=\"text-align: right;\">\n",
       "      <th></th>\n",
       "      <th>title</th>\n",
       "      <th>correlation</th>\n",
       "      <th>numRatings</th>\n",
       "    </tr>\n",
       "  </thead>\n",
       "  <tbody>\n",
       "    <tr>\n",
       "      <th>2973</th>\n",
       "      <td>Mission: Impossible (1996)</td>\n",
       "      <td>1.000000</td>\n",
       "      <td>173</td>\n",
       "    </tr>\n",
       "    <tr>\n",
       "      <th>595</th>\n",
       "      <td>Blues Brothers, The (1980)</td>\n",
       "      <td>0.571011</td>\n",
       "      <td>99</td>\n",
       "    </tr>\n",
       "    <tr>\n",
       "      <th>2613</th>\n",
       "      <td>Liar Liar (1997)</td>\n",
       "      <td>0.563736</td>\n",
       "      <td>81</td>\n",
       "    </tr>\n",
       "    <tr>\n",
       "      <th>686</th>\n",
       "      <td>Broken Arrow (1996)</td>\n",
       "      <td>0.556995</td>\n",
       "      <td>109</td>\n",
       "    </tr>\n",
       "    <tr>\n",
       "      <th>2956</th>\n",
       "      <td>Minority Report (2002)</td>\n",
       "      <td>0.507303</td>\n",
       "      <td>108</td>\n",
       "    </tr>\n",
       "  </tbody>\n",
       "</table>\n",
       "</div>"
      ],
      "text/plain": [
       "                           title  correlation  numRatings\n",
       "2973  Mission: Impossible (1996)     1.000000         173\n",
       "595   Blues Brothers, The (1980)     0.571011          99\n",
       "2613            Liar Liar (1997)     0.563736          81\n",
       "686          Broken Arrow (1996)     0.556995         109\n",
       "2956      Minority Report (2002)     0.507303         108"
      ]
     },
     "execution_count": 62,
     "metadata": {},
     "output_type": "execute_result"
    }
   ],
   "source": [
    "recommender('Mission: Impossible (1996)')"
   ]
  },
  {
   "cell_type": "code",
   "execution_count": 63,
   "metadata": {},
   "outputs": [
    {
     "data": {
      "text/html": [
       "<div>\n",
       "<style scoped>\n",
       "    .dataframe tbody tr th:only-of-type {\n",
       "        vertical-align: middle;\n",
       "    }\n",
       "\n",
       "    .dataframe tbody tr th {\n",
       "        vertical-align: top;\n",
       "    }\n",
       "\n",
       "    .dataframe thead th {\n",
       "        text-align: right;\n",
       "    }\n",
       "</style>\n",
       "<table border=\"1\" class=\"dataframe\">\n",
       "  <thead>\n",
       "    <tr style=\"text-align: right;\">\n",
       "      <th></th>\n",
       "      <th>title</th>\n",
       "      <th>correlation</th>\n",
       "      <th>numRatings</th>\n",
       "    </tr>\n",
       "  </thead>\n",
       "  <tbody>\n",
       "    <tr>\n",
       "      <th>4252</th>\n",
       "      <td>Toy Story 2 (1999)</td>\n",
       "      <td>1.000000</td>\n",
       "      <td>104</td>\n",
       "    </tr>\n",
       "    <tr>\n",
       "      <th>4251</th>\n",
       "      <td>Toy Story (1995)</td>\n",
       "      <td>0.709677</td>\n",
       "      <td>232</td>\n",
       "    </tr>\n",
       "    <tr>\n",
       "      <th>664</th>\n",
       "      <td>Bug's Life, A (1998)</td>\n",
       "      <td>0.625637</td>\n",
       "      <td>102</td>\n",
       "    </tr>\n",
       "    <tr>\n",
       "      <th>2068</th>\n",
       "      <td>Incredibles, The (2004)</td>\n",
       "      <td>0.618350</td>\n",
       "      <td>102</td>\n",
       "    </tr>\n",
       "    <tr>\n",
       "      <th>320</th>\n",
       "      <td>Babe (1995)</td>\n",
       "      <td>0.598465</td>\n",
       "      <td>129</td>\n",
       "    </tr>\n",
       "  </tbody>\n",
       "</table>\n",
       "</div>"
      ],
      "text/plain": [
       "                        title  correlation  numRatings\n",
       "4252       Toy Story 2 (1999)     1.000000         104\n",
       "4251         Toy Story (1995)     0.709677         232\n",
       "664      Bug's Life, A (1998)     0.625637         102\n",
       "2068  Incredibles, The (2004)     0.618350         102\n",
       "320               Babe (1995)     0.598465         129"
      ]
     },
     "execution_count": 63,
     "metadata": {},
     "output_type": "execute_result"
    }
   ],
   "source": [
    "recommender('Toy Story 2 (1999)')"
   ]
  },
  {
   "cell_type": "code",
   "execution_count": 233,
   "metadata": {},
   "outputs": [
    {
     "data": {
      "text/html": [
       "<div>\n",
       "<style scoped>\n",
       "    .dataframe tbody tr th:only-of-type {\n",
       "        vertical-align: middle;\n",
       "    }\n",
       "\n",
       "    .dataframe tbody tr th {\n",
       "        vertical-align: top;\n",
       "    }\n",
       "\n",
       "    .dataframe thead th {\n",
       "        text-align: right;\n",
       "    }\n",
       "</style>\n",
       "<table border=\"1\" class=\"dataframe\">\n",
       "  <thead>\n",
       "    <tr style=\"text-align: right;\">\n",
       "      <th></th>\n",
       "      <th>title</th>\n",
       "      <th>correlation</th>\n",
       "      <th>numRatings</th>\n",
       "    </tr>\n",
       "  </thead>\n",
       "  <tbody>\n",
       "    <tr>\n",
       "      <th>4115</th>\n",
       "      <td>Shrek (2001)</td>\n",
       "      <td>1.000000</td>\n",
       "      <td>158</td>\n",
       "    </tr>\n",
       "    <tr>\n",
       "      <th>305</th>\n",
       "      <td>Armageddon (1998)</td>\n",
       "      <td>0.555461</td>\n",
       "      <td>100</td>\n",
       "    </tr>\n",
       "    <tr>\n",
       "      <th>2749</th>\n",
       "      <td>Lord of the Rings: The Fellowship of the Ring,...</td>\n",
       "      <td>0.513340</td>\n",
       "      <td>189</td>\n",
       "    </tr>\n",
       "    <tr>\n",
       "      <th>3300</th>\n",
       "      <td>Ocean's Eleven (2001)</td>\n",
       "      <td>0.503195</td>\n",
       "      <td>119</td>\n",
       "    </tr>\n",
       "    <tr>\n",
       "      <th>4067</th>\n",
       "      <td>Shakespeare in Love (1998)</td>\n",
       "      <td>0.502855</td>\n",
       "      <td>106</td>\n",
       "    </tr>\n",
       "  </tbody>\n",
       "</table>\n",
       "</div>"
      ],
      "text/plain": [
       "                                                  title  correlation  \\\n",
       "4115                                       Shrek (2001)     1.000000   \n",
       "305                                   Armageddon (1998)     0.555461   \n",
       "2749  Lord of the Rings: The Fellowship of the Ring,...     0.513340   \n",
       "3300                              Ocean's Eleven (2001)     0.503195   \n",
       "4067                         Shakespeare in Love (1998)     0.502855   \n",
       "\n",
       "      numRatings  \n",
       "4115         158  \n",
       "305          100  \n",
       "2749         189  \n",
       "3300         119  \n",
       "4067         106  "
      ]
     },
     "execution_count": 233,
     "metadata": {},
     "output_type": "execute_result"
    }
   ],
   "source": [
    "recommender('Shrek (2001)')"
   ]
  },
  {
   "cell_type": "markdown",
   "metadata": {},
   "source": [
    "### We can see is not perfect, as it makes some clear mistakes,mixing genres, so let's try a different approach:"
   ]
  },
  {
   "cell_type": "markdown",
   "metadata": {},
   "source": [
    "## K Nearest Neighbor system"
   ]
  },
  {
   "cell_type": "markdown",
   "metadata": {},
   "source": [
    "### Using only the movies with more than 100 reviews"
   ]
  },
  {
   "cell_type": "code",
   "execution_count": 195,
   "metadata": {},
   "outputs": [],
   "source": [
    "knn_df = df[df['numRatings'] > 100]"
   ]
  },
  {
   "cell_type": "code",
   "execution_count": 206,
   "metadata": {},
   "outputs": [
    {
     "data": {
      "text/plain": [
       "(22556, 8)"
      ]
     },
     "execution_count": 206,
     "metadata": {},
     "output_type": "execute_result"
    }
   ],
   "source": [
    "knn_df.shape"
   ]
  },
  {
   "cell_type": "code",
   "execution_count": 207,
   "metadata": {},
   "outputs": [
    {
     "data": {
      "text/plain": [
       "(105339, 8)"
      ]
     },
     "execution_count": 207,
     "metadata": {},
     "output_type": "execute_result"
    }
   ],
   "source": [
    "df.shape"
   ]
  },
  {
   "cell_type": "markdown",
   "metadata": {},
   "source": [
    "### Matrix Manipulation"
   ]
  },
  {
   "cell_type": "code",
   "execution_count": 198,
   "metadata": {},
   "outputs": [],
   "source": [
    "# Creating the matrix\n",
    "knn_matrix_df = knn_df.pivot_table(\n",
    "    index='title',\n",
    "    columns='userId',\n",
    "    values='rating'\n",
    ")"
   ]
  },
  {
   "cell_type": "code",
   "execution_count": 199,
   "metadata": {},
   "outputs": [],
   "source": [
    "# Substituting NaN values for 0\n",
    "knn_matrix_df.fillna(0.00, inplace=True)"
   ]
  },
  {
   "cell_type": "code",
   "execution_count": 200,
   "metadata": {},
   "outputs": [],
   "source": [
    "#Doing the calculation on a scipy matrix, for more precise results\n",
    "knn_matrix = csr_matrix(knn_matrix_df.values)"
   ]
  },
  {
   "cell_type": "markdown",
   "metadata": {},
   "source": [
    "### Making the model"
   ]
  },
  {
   "cell_type": "code",
   "execution_count": 201,
   "metadata": {},
   "outputs": [
    {
     "data": {
      "text/plain": [
       "NearestNeighbors(algorithm='brute', metric='cosine')"
      ]
     },
     "execution_count": 201,
     "metadata": {},
     "output_type": "execute_result"
    }
   ],
   "source": [
    "#training the model\n",
    "model = NearestNeighbors(metric='cosine', algorithm='brute')\n",
    "model.fit(knn_matrix)"
   ]
  },
  {
   "cell_type": "markdown",
   "metadata": {},
   "source": [
    "### Recommender Function:"
   ]
  },
  {
   "cell_type": "code",
   "execution_count": 234,
   "metadata": {},
   "outputs": [],
   "source": [
    "def KNN_recommender(name):\n",
    "    distances, indices = model.kneighbors(knn_matrix_df.loc[name, :].values.reshape(1, -1), n_neighbors=6)\n",
    "    for i in range(0, len(distances.flatten())):\n",
    "        if i == 0:\n",
    "            print('Recommendations for: {0}'.format(name))\n",
    "        else:\n",
    "            print('{0}: {1}, with distance {2}'.format(i, knn_matrix_df.index[indices.flatten()[i]], distances.flatten()[i]))\n",
    "        "
   ]
  },
  {
   "cell_type": "code",
   "execution_count": null,
   "metadata": {},
   "outputs": [],
   "source": []
  },
  {
   "cell_type": "markdown",
   "metadata": {},
   "source": [
    "### Now let's test it and compare with the results of the other method!"
   ]
  },
  {
   "cell_type": "code",
   "execution_count": 223,
   "metadata": {},
   "outputs": [
    {
     "name": "stdout",
     "output_type": "stream",
     "text": [
      "Recommendations for: Pulp Fiction (1994)\n",
      "1: Silence of the Lambs, The (1991), with distance 0.27649543004099775\n",
      "2: Shawshank Redemption, The (1994), with distance 0.2970643525971439\n",
      "3: Usual Suspects, The (1995), with distance 0.3194265780569018\n",
      "4: Forrest Gump (1994), with distance 0.3414128118021953\n",
      "5: Seven (a.k.a. Se7en) (1995), with distance 0.3434726907977461\n"
     ]
    }
   ],
   "source": [
    "KNN_recommender('Pulp Fiction (1994)')"
   ]
  },
  {
   "cell_type": "code",
   "execution_count": 224,
   "metadata": {},
   "outputs": [
    {
     "name": "stdout",
     "output_type": "stream",
     "text": [
      "Recommendations for: Forrest Gump (1994)\n",
      "1: Jurassic Park (1993), with distance 0.276093004942656\n",
      "2: Pulp Fiction (1994), with distance 0.3414128118021953\n",
      "3: Braveheart (1995), with distance 0.35022072691457207\n",
      "4: Shawshank Redemption, The (1994), with distance 0.3620962794831538\n",
      "5: Apollo 13 (1995), with distance 0.3681420579041663\n"
     ]
    }
   ],
   "source": [
    "KNN_recommender('Forrest Gump (1994)')"
   ]
  },
  {
   "cell_type": "code",
   "execution_count": 225,
   "metadata": {},
   "outputs": [
    {
     "name": "stdout",
     "output_type": "stream",
     "text": [
      "Recommendations for: Reservoir Dogs (1992)\n",
      "1: Goodfellas (1990), with distance 0.38680774749358626\n",
      "2: Full Metal Jacket (1987), with distance 0.4002868659849629\n",
      "3: Pulp Fiction (1994), with distance 0.4232843969922404\n",
      "4: Trainspotting (1996), with distance 0.42706616362824057\n",
      "5: Usual Suspects, The (1995), with distance 0.4449866684501582\n"
     ]
    }
   ],
   "source": [
    "KNN_recommender('Reservoir Dogs (1992)')"
   ]
  },
  {
   "cell_type": "code",
   "execution_count": 226,
   "metadata": {},
   "outputs": [
    {
     "name": "stdout",
     "output_type": "stream",
     "text": [
      "Recommendations for: Minority Report (2002)\n",
      "1: Spider-Man (2002), with distance 0.3935474198469935\n",
      "2: Ocean's Eleven (2001), with distance 0.4168825173341312\n",
      "3: Lord of the Rings: The Fellowship of the Ring, The (2001), with distance 0.4225921118729009\n",
      "4: Gladiator (2000), with distance 0.4248947439419537\n",
      "5: Bourne Identity, The (2002), with distance 0.42759675990233503\n"
     ]
    }
   ],
   "source": [
    "KNN_recommender('Minority Report (2002)')"
   ]
  },
  {
   "cell_type": "code",
   "execution_count": 227,
   "metadata": {},
   "outputs": [
    {
     "name": "stdout",
     "output_type": "stream",
     "text": [
      "Recommendations for: Mission: Impossible (1996)\n",
      "1: Independence Day (a.k.a. ID4) (1996), with distance 0.31899314189950256\n",
      "2: Rock, The (1996), with distance 0.3405311181083097\n",
      "3: Twister (1996), with distance 0.36988602056865916\n",
      "4: Star Wars: Episode VI - Return of the Jedi (1983), with distance 0.4352157767163827\n",
      "5: Toy Story (1995), with distance 0.4399011198150946\n"
     ]
    }
   ],
   "source": [
    "KNN_recommender('Mission: Impossible (1996)')"
   ]
  },
  {
   "cell_type": "code",
   "execution_count": 228,
   "metadata": {},
   "outputs": [
    {
     "name": "stdout",
     "output_type": "stream",
     "text": [
      "Recommendations for: Toy Story 2 (1999)\n",
      "1: Bug's Life, A (1998), with distance 0.42817227855339557\n",
      "2: Shrek (2001), with distance 0.44208686179921886\n",
      "3: Toy Story (1995), with distance 0.44247707404956405\n",
      "4: Sixth Sense, The (1999), with distance 0.4699681131581702\n",
      "5: Monsters, Inc. (2001), with distance 0.4733721713370306\n"
     ]
    }
   ],
   "source": [
    "KNN_recommender('Toy Story 2 (1999)')"
   ]
  },
  {
   "cell_type": "code",
   "execution_count": 230,
   "metadata": {},
   "outputs": [
    {
     "name": "stdout",
     "output_type": "stream",
     "text": [
      "Recommendations for: Shrek (2001)\n",
      "1: Monsters, Inc. (2001), with distance 0.32258544024829516\n",
      "2: Lord of the Rings: The Fellowship of the Ring, The (2001), with distance 0.35085350264565807\n",
      "3: Lord of the Rings: The Two Towers, The (2002), with distance 0.4089021317304583\n",
      "4: Ocean's Eleven (2001), with distance 0.4150158146965607\n",
      "5: Finding Nemo (2003), with distance 0.4206139995740198\n"
     ]
    }
   ],
   "source": [
    "KNN_recommender('Shrek (2001)')"
   ]
  },
  {
   "cell_type": "code",
   "execution_count": null,
   "metadata": {},
   "outputs": [],
   "source": []
  },
  {
   "cell_type": "code",
   "execution_count": null,
   "metadata": {},
   "outputs": [],
   "source": []
  }
 ],
 "metadata": {
  "kernelspec": {
   "display_name": "Python 3",
   "language": "python",
   "name": "python3"
  },
  "language_info": {
   "codemirror_mode": {
    "name": "ipython",
    "version": 3
   },
   "file_extension": ".py",
   "mimetype": "text/x-python",
   "name": "python",
   "nbconvert_exporter": "python",
   "pygments_lexer": "ipython3",
   "version": "3.8.3rc1"
  }
 },
 "nbformat": 4,
 "nbformat_minor": 4
}
